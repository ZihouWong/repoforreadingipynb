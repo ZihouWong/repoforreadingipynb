{
 "cells": [
  {
   "cell_type": "markdown",
   "metadata": {},
   "source": [
    "招聘岗位\n",
    "Python研发实习生\n",
    "\n",
    "工作地点\n",
    "深圳南山区迈科龙大厦\n",
    "\n",
    "薪资福利\n",
    "150-200元/天\n",
    "午餐和加班餐补\n",
    "免费零食\n",
    "免费健身房福利\n",
    "\n",
    "一、岗位描述\n",
    "1. 负责海外、以及国内财经新闻网站文章、财经日历、行情的爬取；\n",
    "2. 协助进行设计、开发分布式网络爬虫应用。\n",
    "3. 协助进行爬取数据的抽取，清洗等工作。\n",
    "4. 其他爬虫服务的维护工作。\n",
    "\n",
    "二、岗位要求\n",
    "1. 可连续实习6个月以上，每周至少出勤4天，保证充足实习时间；\n",
    "2. 其它：最顶尖的技术挑战、一群技术牛逼的同事、规范化的技术学习、分享、交流、培训大环境。\n",
    "\n",
    "三、 其他职位要求：\n",
    "1. 计算机科学或相关专业，20届毕业生优先考虑；\n",
    "2. 了解数据结构和算法设计；\n",
    "3. 至少熟悉一门开发语言，包括Python、Html、但不限于上述；\n",
    "4. 熟悉常用爬虫技术，包括但不限于Scrapy，beautifulsoup；\n",
    "5. 优秀的分析和解决问题的能力；\n",
    "6. 良好的团队合作精神，较强的沟通能力；\n",
    "7. 熟练使用Linux操作系统，熟悉SQL 语言\n",
    "8. 了解HTTP协议，及HTML，Javascript语言\n",
    "\n",
    "应聘方式\n",
    "简历投递：yola@xunzhitech.com或添加HR微信13424341598\n",
    "\n",
    "\n"
   ]
  },
  {
   "cell_type": "markdown",
   "metadata": {},
   "source": [
    "## Python 爬虫实习生题目\n",
    "\n",
    "### 面试题目\n",
    "##### 此面试题分两部分，一部分为常见算法问题，一部分为常见的数据操作问题\n",
    "###### 需要安装的库文件主要为常用的几个包，建议直接使用Anaconda管理包文件。并使用jupyter notebook进行编辑\n",
    "###### 答案结果使用jupyter notebook的格式保存完毕后回复。\n",
    "### 注！ 如果完成问题 三，那么问题 一、二、可不做\n",
    "\n",
    "### 1、题目一、请在不使用numpy以及其他数据包的情况下实现，可参考numpy。\n",
    "### 2、完成后。保证程序的正确性"
   ]
  },
  {
   "cell_type": "markdown",
   "metadata": {},
   "source": [
    "# 一、算法问题\n",
    "## 请设计并实现代码模块，用以矩阵的加减乘以及秩的计算。并简单编写单元测试"
   ]
  },
  {
   "cell_type": "code",
   "execution_count": 3,
   "metadata": {},
   "outputs": [],
   "source": [
    "class Calculator():\n",
    "    def add():\n",
    "        pass"
   ]
  },
  {
   "cell_type": "markdown",
   "metadata": {},
   "source": [
    "# 二、解释"
   ]
  },
  {
   "cell_type": "code",
   "execution_count": 4,
   "metadata": {},
   "outputs": [
    {
     "data": {
      "text/plain": [
       "<Figure size 640x480 with 1 Axes>"
      ]
     },
     "metadata": {},
     "output_type": "display_data"
    }
   ],
   "source": [
    "# 请解释下面每段代码 \n",
    "\n",
    "# 比如\n",
    "# 导入常用包 pandas 作为 pd\n",
    "import pandas as pd\n",
    "import numpy as np\n",
    "import datetime as dt\n",
    "import random\n",
    "from matplotlib import pyplot as plt \n",
    "\n",
    "EndDatetime = dt.datetime.now()\n",
    "StartDatetime = EndDatetime - dt.timedelta(days= 50)\n",
    "StartDatetime = StartDatetime.strftime('%Y-%m-%d')\n",
    "EndDatetime =EndDatetime.strftime('%Y-%m-%d')\n",
    "\n",
    "Datetime_df = pd.date_range(start=StartDatetime,end=EndDatetime,freq='1D')\n",
    "Data_df = pd.DataFrame(Datetime_df,columns=['Datetime'])\n",
    "Temp_data = []\n",
    "output = [random.randint(0,9) for i in range(len(Data_df))]\n",
    "Data_df['Price'] = output\n",
    "\n",
    "plt.title(\"Simple Test\") \n",
    "plt.xlabel(\"Datetime\") \n",
    "plt.ylabel(\"Price\") \n",
    "plt.plot(np.array(Data_df['Datetime']),np.array(Data_df['Price'])) \n",
    "plt.show()"
   ]
  },
  {
   "cell_type": "markdown",
   "metadata": {},
   "source": [
    "# 三、 特殊题目（非必须题目）\n",
    "# 如果你有自己的爬虫程序（请尝试爬取一下网站的所有评论）。\n",
    "# https://www.bestbuy.ca/en-ca/product/hp-hp-officejet-pro-6968-all-in-one-inkjet-printer-with-fax-6968/10441056/review\n",
    "# 可以将代码整理在此处，并将你爬取的数据，根据你对数据的理解，保存为Excel文件（或其他格式文件）一起压缩发送给我（文件大小不超过20M）。\n",
    "# 并在邮件注释，面试Python爬虫实习生，并留下你的联系方式。\n",
    "# 发送邮件至Bloomberg（z136303452@hotmail.com）\n",
    "# 有效期截止到2019年8月15日。"
   ]
  },
  {
   "cell_type": "code",
   "execution_count": null,
   "metadata": {},
   "outputs": [],
   "source": []
  },
  {
   "cell_type": "code",
   "execution_count": null,
   "metadata": {},
   "outputs": [],
   "source": []
  },
  {
   "cell_type": "code",
   "execution_count": null,
   "metadata": {},
   "outputs": [],
   "source": []
  },
  {
   "cell_type": "code",
   "execution_count": null,
   "metadata": {},
   "outputs": [],
   "source": []
  },
  {
   "cell_type": "code",
   "execution_count": null,
   "metadata": {},
   "outputs": [],
   "source": []
  },
  {
   "cell_type": "code",
   "execution_count": null,
   "metadata": {},
   "outputs": [],
   "source": []
  }
 ],
 "metadata": {
  "kernelspec": {
   "display_name": "Python 3",
   "language": "python",
   "name": "python3"
  },
  "language_info": {
   "codemirror_mode": {
    "name": "ipython",
    "version": 3
   },
   "file_extension": ".py",
   "mimetype": "text/x-python",
   "name": "python",
   "nbconvert_exporter": "python",
   "pygments_lexer": "ipython3",
   "version": "3.6.5"
  }
 },
 "nbformat": 4,
 "nbformat_minor": 2
}
